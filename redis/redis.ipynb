{
 "cells": [
  {
   "cell_type": "markdown",
   "metadata": {},
   "source": [
    "### Redis Python Operations\n",
    "Python Redis operations\n",
    "* Set\n",
    "* Get"
   ]
  },
  {
   "cell_type": "code",
   "execution_count": null,
   "metadata": {},
   "outputs": [],
   "source": [
    "import pandas as pd\n",
    "import redis\n"
   ]
  },
  {
   "cell_type": "code",
   "execution_count": 2,
   "metadata": {},
   "outputs": [],
   "source": [
    "df = pd.read_parquet(\"../data/df.parquet\")\n"
   ]
  },
  {
   "cell_type": "code",
   "execution_count": 3,
   "metadata": {},
   "outputs": [
    {
     "data": {
      "text/html": [
       "<div>\n",
       "<style scoped>\n",
       "    .dataframe tbody tr th:only-of-type {\n",
       "        vertical-align: middle;\n",
       "    }\n",
       "\n",
       "    .dataframe tbody tr th {\n",
       "        vertical-align: top;\n",
       "    }\n",
       "\n",
       "    .dataframe thead th {\n",
       "        text-align: right;\n",
       "    }\n",
       "</style>\n",
       "<table border=\"1\" class=\"dataframe\">\n",
       "  <thead>\n",
       "    <tr style=\"text-align: right;\">\n",
       "      <th></th>\n",
       "      <th>InvoiceNo</th>\n",
       "      <th>StockCode</th>\n",
       "      <th>Description</th>\n",
       "      <th>Quantity</th>\n",
       "      <th>InvoiceDate</th>\n",
       "      <th>UnitPrice</th>\n",
       "      <th>CustomerID</th>\n",
       "      <th>Country</th>\n",
       "    </tr>\n",
       "  </thead>\n",
       "  <tbody>\n",
       "    <tr>\n",
       "      <th>0</th>\n",
       "      <td>536365</td>\n",
       "      <td>85123A</td>\n",
       "      <td>WHITE HANGING HEART T-LIGHT HOLDER</td>\n",
       "      <td>6</td>\n",
       "      <td>12/1/2010 8:26</td>\n",
       "      <td>2.55</td>\n",
       "      <td>17850</td>\n",
       "      <td>United Kingdom</td>\n",
       "    </tr>\n",
       "    <tr>\n",
       "      <th>1</th>\n",
       "      <td>536365</td>\n",
       "      <td>71053</td>\n",
       "      <td>WHITE METAL LANTERN</td>\n",
       "      <td>6</td>\n",
       "      <td>12/1/2010 8:26</td>\n",
       "      <td>3.39</td>\n",
       "      <td>17850</td>\n",
       "      <td>United Kingdom</td>\n",
       "    </tr>\n",
       "    <tr>\n",
       "      <th>2</th>\n",
       "      <td>536365</td>\n",
       "      <td>84406B</td>\n",
       "      <td>CREAM CUPID HEARTS COAT HANGER</td>\n",
       "      <td>8</td>\n",
       "      <td>12/1/2010 8:26</td>\n",
       "      <td>2.75</td>\n",
       "      <td>17850</td>\n",
       "      <td>United Kingdom</td>\n",
       "    </tr>\n",
       "    <tr>\n",
       "      <th>3</th>\n",
       "      <td>536365</td>\n",
       "      <td>84029G</td>\n",
       "      <td>KNITTED UNION FLAG HOT WATER BOTTLE</td>\n",
       "      <td>6</td>\n",
       "      <td>12/1/2010 8:26</td>\n",
       "      <td>3.39</td>\n",
       "      <td>17850</td>\n",
       "      <td>United Kingdom</td>\n",
       "    </tr>\n",
       "    <tr>\n",
       "      <th>4</th>\n",
       "      <td>536365</td>\n",
       "      <td>84029E</td>\n",
       "      <td>RED WOOLLY HOTTIE WHITE HEART.</td>\n",
       "      <td>6</td>\n",
       "      <td>12/1/2010 8:26</td>\n",
       "      <td>3.39</td>\n",
       "      <td>17850</td>\n",
       "      <td>United Kingdom</td>\n",
       "    </tr>\n",
       "    <tr>\n",
       "      <th>5</th>\n",
       "      <td>536365</td>\n",
       "      <td>22752</td>\n",
       "      <td>SET 7 BABUSHKA NESTING BOXES</td>\n",
       "      <td>2</td>\n",
       "      <td>12/1/2010 8:26</td>\n",
       "      <td>7.65</td>\n",
       "      <td>17850</td>\n",
       "      <td>United Kingdom</td>\n",
       "    </tr>\n",
       "    <tr>\n",
       "      <th>6</th>\n",
       "      <td>536365</td>\n",
       "      <td>21730</td>\n",
       "      <td>GLASS STAR FROSTED T-LIGHT HOLDER</td>\n",
       "      <td>6</td>\n",
       "      <td>12/1/2010 8:26</td>\n",
       "      <td>4.25</td>\n",
       "      <td>17850</td>\n",
       "      <td>United Kingdom</td>\n",
       "    </tr>\n",
       "    <tr>\n",
       "      <th>7</th>\n",
       "      <td>536366</td>\n",
       "      <td>22633</td>\n",
       "      <td>HAND WARMER UNION JACK</td>\n",
       "      <td>6</td>\n",
       "      <td>12/1/2010 8:28</td>\n",
       "      <td>1.85</td>\n",
       "      <td>17850</td>\n",
       "      <td>United Kingdom</td>\n",
       "    </tr>\n",
       "    <tr>\n",
       "      <th>8</th>\n",
       "      <td>536366</td>\n",
       "      <td>22632</td>\n",
       "      <td>HAND WARMER RED POLKA DOT</td>\n",
       "      <td>6</td>\n",
       "      <td>12/1/2010 8:28</td>\n",
       "      <td>1.85</td>\n",
       "      <td>17850</td>\n",
       "      <td>United Kingdom</td>\n",
       "    </tr>\n",
       "    <tr>\n",
       "      <th>9</th>\n",
       "      <td>536367</td>\n",
       "      <td>84879</td>\n",
       "      <td>ASSORTED COLOUR BIRD ORNAMENT</td>\n",
       "      <td>32</td>\n",
       "      <td>12/1/2010 8:34</td>\n",
       "      <td>1.69</td>\n",
       "      <td>13047</td>\n",
       "      <td>United Kingdom</td>\n",
       "    </tr>\n",
       "  </tbody>\n",
       "</table>\n",
       "</div>"
      ],
      "text/plain": [
       "  InvoiceNo StockCode                          Description  Quantity  \\\n",
       "0    536365    85123A   WHITE HANGING HEART T-LIGHT HOLDER         6   \n",
       "1    536365     71053                  WHITE METAL LANTERN         6   \n",
       "2    536365    84406B       CREAM CUPID HEARTS COAT HANGER         8   \n",
       "3    536365    84029G  KNITTED UNION FLAG HOT WATER BOTTLE         6   \n",
       "4    536365    84029E       RED WOOLLY HOTTIE WHITE HEART.         6   \n",
       "5    536365     22752         SET 7 BABUSHKA NESTING BOXES         2   \n",
       "6    536365     21730    GLASS STAR FROSTED T-LIGHT HOLDER         6   \n",
       "7    536366     22633               HAND WARMER UNION JACK         6   \n",
       "8    536366     22632            HAND WARMER RED POLKA DOT         6   \n",
       "9    536367     84879        ASSORTED COLOUR BIRD ORNAMENT        32   \n",
       "\n",
       "      InvoiceDate  UnitPrice CustomerID         Country  \n",
       "0  12/1/2010 8:26       2.55      17850  United Kingdom  \n",
       "1  12/1/2010 8:26       3.39      17850  United Kingdom  \n",
       "2  12/1/2010 8:26       2.75      17850  United Kingdom  \n",
       "3  12/1/2010 8:26       3.39      17850  United Kingdom  \n",
       "4  12/1/2010 8:26       3.39      17850  United Kingdom  \n",
       "5  12/1/2010 8:26       7.65      17850  United Kingdom  \n",
       "6  12/1/2010 8:26       4.25      17850  United Kingdom  \n",
       "7  12/1/2010 8:28       1.85      17850  United Kingdom  \n",
       "8  12/1/2010 8:28       1.85      17850  United Kingdom  \n",
       "9  12/1/2010 8:34       1.69      13047  United Kingdom  "
      ]
     },
     "execution_count": 3,
     "metadata": {},
     "output_type": "execute_result"
    }
   ],
   "source": [
    "df.head(10)\n"
   ]
  },
  {
   "cell_type": "code",
   "execution_count": 4,
   "metadata": {},
   "outputs": [
    {
     "data": {
      "text/plain": [
       "(397924, 8)"
      ]
     },
     "execution_count": 4,
     "metadata": {},
     "output_type": "execute_result"
    }
   ],
   "source": [
    "df.shape\n"
   ]
  },
  {
   "cell_type": "code",
   "execution_count": 5,
   "metadata": {},
   "outputs": [
    {
     "data": {
      "text/plain": [
       "True"
      ]
     },
     "execution_count": 5,
     "metadata": {},
     "output_type": "execute_result"
    }
   ],
   "source": [
    "con = redis.StrictRedis(host='localhost', port=6379, db=1, password=None)\n",
    "con.ping()\n"
   ]
  },
  {
   "cell_type": "code",
   "execution_count": 6,
   "metadata": {},
   "outputs": [
    {
     "data": {
      "text/plain": [
       "{'redis_version': '7.0.1',\n",
       " 'redis_git_sha1': 0,\n",
       " 'redis_git_dirty': 0,\n",
       " 'redis_build_id': 'eaa8c98212b8004a',\n",
       " 'redis_mode': 'standalone',\n",
       " 'os': 'Linux 5.10.102.1-microsoft-standard-WSL2 x86_64',\n",
       " 'arch_bits': 64,\n",
       " 'monotonic_clock': 'POSIX clock_gettime',\n",
       " 'multiplexing_api': 'epoll',\n",
       " 'atomicvar_api': 'c11-builtin',\n",
       " 'gcc_version': '10.2.1',\n",
       " 'process_id': 1,\n",
       " 'process_supervised': 'no',\n",
       " 'run_id': '4e914fa8b38b90f7c64f20305fcfca80516cd29b',\n",
       " 'tcp_port': 6379,\n",
       " 'server_time_usec': 1654969309082855,\n",
       " 'uptime_in_seconds': 7020,\n",
       " 'uptime_in_days': 0,\n",
       " 'hz': 10,\n",
       " 'configured_hz': 10,\n",
       " 'lru_clock': 10802141,\n",
       " 'executable': '/data/redis-server',\n",
       " 'config_file': '',\n",
       " 'io_threads_active': 0,\n",
       " 'connected_clients': 1,\n",
       " 'cluster_connections': 0,\n",
       " 'maxclients': 10000,\n",
       " 'client_recent_max_input_buffer': 20480,\n",
       " 'client_recent_max_output_buffer': 0,\n",
       " 'blocked_clients': 0,\n",
       " 'tracking_clients': 0,\n",
       " 'clients_in_timeout_table': 0,\n",
       " 'used_memory': 1571384,\n",
       " 'used_memory_human': '1.50M',\n",
       " 'used_memory_rss': 14176256,\n",
       " 'used_memory_rss_human': '13.52M',\n",
       " 'used_memory_peak': 1592392,\n",
       " 'used_memory_peak_human': '1.52M',\n",
       " 'used_memory_peak_perc': '98.68%',\n",
       " 'used_memory_overhead': 1139632,\n",
       " 'used_memory_startup': 862720,\n",
       " 'used_memory_dataset': 431752,\n",
       " 'used_memory_dataset_perc': '60.92%',\n",
       " 'allocator_allocated': 1635592,\n",
       " 'allocator_active': 1925120,\n",
       " 'allocator_resident': 5066752,\n",
       " 'total_system_memory': 6221705216,\n",
       " 'total_system_memory_human': '5.79G',\n",
       " 'used_memory_lua': 31744,\n",
       " 'used_memory_vm_eval': 31744,\n",
       " 'used_memory_lua_human': '31.00K',\n",
       " 'used_memory_scripts_eval': 0,\n",
       " 'number_of_cached_scripts': 0,\n",
       " 'number_of_functions': 0,\n",
       " 'number_of_libraries': 0,\n",
       " 'used_memory_vm_functions': 32768,\n",
       " 'used_memory_vm_total': 64512,\n",
       " 'used_memory_vm_total_human': '63.00K',\n",
       " 'used_memory_functions': 184,\n",
       " 'used_memory_scripts': 184,\n",
       " 'used_memory_scripts_human': '184B',\n",
       " 'maxmemory': 0,\n",
       " 'maxmemory_human': '0B',\n",
       " 'maxmemory_policy': 'noeviction',\n",
       " 'allocator_frag_ratio': 1.18,\n",
       " 'allocator_frag_bytes': 289528,\n",
       " 'allocator_rss_ratio': 2.63,\n",
       " 'allocator_rss_bytes': 3141632,\n",
       " 'rss_overhead_ratio': 2.8,\n",
       " 'rss_overhead_bytes': 9109504,\n",
       " 'mem_fragmentation_ratio': 9.03,\n",
       " 'mem_fragmentation_bytes': 12606696,\n",
       " 'mem_not_counted_for_evict': 0,\n",
       " 'mem_replication_backlog': 0,\n",
       " 'mem_total_replication_buffers': 0,\n",
       " 'mem_clients_slaves': 0,\n",
       " 'mem_clients_normal': 37632,\n",
       " 'mem_cluster_links': 0,\n",
       " 'mem_aof_buffer': 0,\n",
       " 'mem_allocator': 'jemalloc-5.2.1',\n",
       " 'active_defrag_running': 0,\n",
       " 'lazyfree_pending_objects': 0,\n",
       " 'lazyfreed_objects': 0,\n",
       " 'loading': 0,\n",
       " 'async_loading': 0,\n",
       " 'current_cow_peak': 0,\n",
       " 'current_cow_size': 0,\n",
       " 'current_cow_size_age': 0,\n",
       " 'current_fork_perc': 0.0,\n",
       " 'current_save_keys_processed': 0,\n",
       " 'current_save_keys_total': 0,\n",
       " 'rdb_changes_since_last_save': 0,\n",
       " 'rdb_bgsave_in_progress': 0,\n",
       " 'rdb_last_save_time': 1654968967,\n",
       " 'rdb_last_bgsave_status': 'ok',\n",
       " 'rdb_last_bgsave_time_sec': 1,\n",
       " 'rdb_current_bgsave_time_sec': -1,\n",
       " 'rdb_saves': 2,\n",
       " 'rdb_last_cow_size': 499712,\n",
       " 'rdb_last_load_keys_expired': 0,\n",
       " 'rdb_last_load_keys_loaded': 0,\n",
       " 'aof_enabled': 0,\n",
       " 'aof_rewrite_in_progress': 0,\n",
       " 'aof_rewrite_scheduled': 0,\n",
       " 'aof_last_rewrite_time_sec': -1,\n",
       " 'aof_current_rewrite_time_sec': -1,\n",
       " 'aof_last_bgrewrite_status': 'ok',\n",
       " 'aof_rewrites': 0,\n",
       " 'aof_rewrites_consecutive_failures': 0,\n",
       " 'aof_last_write_status': 'ok',\n",
       " 'aof_last_cow_size': 0,\n",
       " 'module_fork_in_progress': 0,\n",
       " 'module_fork_last_cow_size': 0,\n",
       " 'total_connections_received': 106,\n",
       " 'total_commands_processed': 8894,\n",
       " 'instantaneous_ops_per_sec': 1,\n",
       " 'total_net_input_bytes': 693007,\n",
       " 'total_net_output_bytes': 70289,\n",
       " 'total_net_repl_input_bytes': 0,\n",
       " 'total_net_repl_output_bytes': 0,\n",
       " 'instantaneous_input_kbps': 0.02,\n",
       " 'instantaneous_output_kbps': 0.01,\n",
       " 'instantaneous_input_repl_kbps': 0.0,\n",
       " 'instantaneous_output_repl_kbps': 0.0,\n",
       " 'rejected_connections': 0,\n",
       " 'sync_full': 0,\n",
       " 'sync_partial_ok': 0,\n",
       " 'sync_partial_err': 0,\n",
       " 'expired_keys': 0,\n",
       " 'expired_stale_perc': 0.0,\n",
       " 'expired_time_cap_reached_count': 0,\n",
       " 'expire_cycle_cpu_milliseconds': 79,\n",
       " 'evicted_keys': 0,\n",
       " 'evicted_clients': 0,\n",
       " 'total_eviction_exceeded_time': 0,\n",
       " 'current_eviction_exceeded_time': 0,\n",
       " 'keyspace_hits': 103,\n",
       " 'keyspace_misses': 0,\n",
       " 'pubsub_channels': 0,\n",
       " 'pubsub_patterns': 0,\n",
       " 'latest_fork_usec': 255,\n",
       " 'total_forks': 2,\n",
       " 'migrate_cached_sockets': 0,\n",
       " 'slave_expires_tracked_keys': 0,\n",
       " 'active_defrag_hits': 0,\n",
       " 'active_defrag_misses': 0,\n",
       " 'active_defrag_key_hits': 0,\n",
       " 'active_defrag_key_misses': 0,\n",
       " 'total_active_defrag_time': 0,\n",
       " 'current_active_defrag_time': 0,\n",
       " 'tracking_total_keys': 0,\n",
       " 'tracking_total_items': 0,\n",
       " 'tracking_total_prefixes': 0,\n",
       " 'unexpected_error_replies': 0,\n",
       " 'total_error_replies': 0,\n",
       " 'dump_payload_sanitizations': 0,\n",
       " 'total_reads_processed': 9000,\n",
       " 'total_writes_processed': 8894,\n",
       " 'io_threaded_reads_processed': 0,\n",
       " 'io_threaded_writes_processed': 0,\n",
       " 'reply_buffer_shrinks': 3,\n",
       " 'reply_buffer_expands': 1,\n",
       " 'role': 'master',\n",
       " 'connected_slaves': 0,\n",
       " 'master_failover_state': 'no-failover',\n",
       " 'master_replid': '4d44392c148dfd09ee302b56c0a326dfad661cf1',\n",
       " 'master_replid2': 0,\n",
       " 'master_repl_offset': 0,\n",
       " 'second_repl_offset': -1,\n",
       " 'repl_backlog_active': 0,\n",
       " 'repl_backlog_size': 1048576,\n",
       " 'repl_backlog_first_byte_offset': 0,\n",
       " 'repl_backlog_histlen': 0,\n",
       " 'used_cpu_sys': 4.151127,\n",
       " 'used_cpu_user': 3.917442,\n",
       " 'used_cpu_sys_children': 0.0,\n",
       " 'used_cpu_user_children': 0.008521,\n",
       " 'used_cpu_sys_main_thread': 4.155973,\n",
       " 'used_cpu_user_main_thread': 3.908734,\n",
       " 'cluster_enabled': 0,\n",
       " 'db1': {'keys': 4339, 'expires': 0, 'avg_ttl': 0}}"
      ]
     },
     "execution_count": 6,
     "metadata": {},
     "output_type": "execute_result"
    }
   ],
   "source": [
    "con.info()\n"
   ]
  },
  {
   "cell_type": "code",
   "execution_count": 7,
   "metadata": {},
   "outputs": [
    {
     "data": {
      "text/html": [
       "<div>\n",
       "<style scoped>\n",
       "    .dataframe tbody tr th:only-of-type {\n",
       "        vertical-align: middle;\n",
       "    }\n",
       "\n",
       "    .dataframe tbody tr th {\n",
       "        vertical-align: top;\n",
       "    }\n",
       "\n",
       "    .dataframe thead th {\n",
       "        text-align: right;\n",
       "    }\n",
       "</style>\n",
       "<table border=\"1\" class=\"dataframe\">\n",
       "  <thead>\n",
       "    <tr style=\"text-align: right;\">\n",
       "      <th></th>\n",
       "      <th>CustomerID</th>\n",
       "      <th>InvoiceNo</th>\n",
       "    </tr>\n",
       "  </thead>\n",
       "  <tbody>\n",
       "    <tr>\n",
       "      <th>0</th>\n",
       "      <td>12346</td>\n",
       "      <td>[541431]</td>\n",
       "    </tr>\n",
       "    <tr>\n",
       "      <th>1</th>\n",
       "      <td>12347</td>\n",
       "      <td>[537626, 542237, 549222, 556201, 562032, 57351...</td>\n",
       "    </tr>\n",
       "    <tr>\n",
       "      <th>2</th>\n",
       "      <td>12348</td>\n",
       "      <td>[539318, 541998, 548955, 568172]</td>\n",
       "    </tr>\n",
       "    <tr>\n",
       "      <th>3</th>\n",
       "      <td>12349</td>\n",
       "      <td>[577609]</td>\n",
       "    </tr>\n",
       "    <tr>\n",
       "      <th>4</th>\n",
       "      <td>12350</td>\n",
       "      <td>[543037]</td>\n",
       "    </tr>\n",
       "  </tbody>\n",
       "</table>\n",
       "</div>"
      ],
      "text/plain": [
       "  CustomerID                                          InvoiceNo\n",
       "0      12346                                           [541431]\n",
       "1      12347  [537626, 542237, 549222, 556201, 562032, 57351...\n",
       "2      12348                   [539318, 541998, 548955, 568172]\n",
       "3      12349                                           [577609]\n",
       "4      12350                                           [543037]"
      ]
     },
     "execution_count": 7,
     "metadata": {},
     "output_type": "execute_result"
    }
   ],
   "source": [
    "tmp = df.groupby(\"CustomerID\")[\"InvoiceNo\"].unique().to_frame().reset_index()\n",
    "tmp.head()\n"
   ]
  },
  {
   "cell_type": "code",
   "execution_count": 8,
   "metadata": {},
   "outputs": [
    {
     "data": {
      "text/html": [
       "<div>\n",
       "<style scoped>\n",
       "    .dataframe tbody tr th:only-of-type {\n",
       "        vertical-align: middle;\n",
       "    }\n",
       "\n",
       "    .dataframe tbody tr th {\n",
       "        vertical-align: top;\n",
       "    }\n",
       "\n",
       "    .dataframe thead th {\n",
       "        text-align: right;\n",
       "    }\n",
       "</style>\n",
       "<table border=\"1\" class=\"dataframe\">\n",
       "  <thead>\n",
       "    <tr style=\"text-align: right;\">\n",
       "      <th></th>\n",
       "      <th>CustomerID</th>\n",
       "      <th>InvoiceNo</th>\n",
       "    </tr>\n",
       "  </thead>\n",
       "  <tbody>\n",
       "    <tr>\n",
       "      <th>4334</th>\n",
       "      <td>18280</td>\n",
       "      <td>[545712]</td>\n",
       "    </tr>\n",
       "    <tr>\n",
       "      <th>4335</th>\n",
       "      <td>18281</td>\n",
       "      <td>[556464]</td>\n",
       "    </tr>\n",
       "    <tr>\n",
       "      <th>4336</th>\n",
       "      <td>18282</td>\n",
       "      <td>[562525, 580173]</td>\n",
       "    </tr>\n",
       "    <tr>\n",
       "      <th>4337</th>\n",
       "      <td>18283</td>\n",
       "      <td>[540350, 541854, 545079, 550957, 554157, 55673...</td>\n",
       "    </tr>\n",
       "    <tr>\n",
       "      <th>4338</th>\n",
       "      <td>18287</td>\n",
       "      <td>[554065, 570715, 573167]</td>\n",
       "    </tr>\n",
       "  </tbody>\n",
       "</table>\n",
       "</div>"
      ],
      "text/plain": [
       "     CustomerID                                          InvoiceNo\n",
       "4334      18280                                           [545712]\n",
       "4335      18281                                           [556464]\n",
       "4336      18282                                   [562525, 580173]\n",
       "4337      18283  [540350, 541854, 545079, 550957, 554157, 55673...\n",
       "4338      18287                           [554065, 570715, 573167]"
      ]
     },
     "execution_count": 8,
     "metadata": {},
     "output_type": "execute_result"
    }
   ],
   "source": [
    "tmp.tail()"
   ]
  },
  {
   "cell_type": "markdown",
   "metadata": {},
   "source": [
    "### Inserting data into Redis"
   ]
  },
  {
   "cell_type": "markdown",
   "metadata": {},
   "source": [
    "Redis is a key-value store that is designed to be very fast and flexible. Hence I just want to insert aggregated data into Redis. \\\n",
    "I used *CustomerID* as key and the *InvoiceNo* as value."
   ]
  },
  {
   "cell_type": "code",
   "execution_count": 10,
   "metadata": {},
   "outputs": [
    {
     "name": "stdout",
     "output_type": "stream",
     "text": [
      "CPU times: total: 4.06 s\n",
      "Wall time: 6.83 s\n"
     ]
    }
   ],
   "source": [
    "%%time\n",
    "for user in tmp.CustomerID.unique():\n",
    "    con.set(str(user), tmp[tmp['CustomerID'] == user][\"InvoiceNo\"].to_json())\n"
   ]
  },
  {
   "cell_type": "markdown",
   "metadata": {},
   "source": [
    "### Getting data from Redis\n"
   ]
  },
  {
   "cell_type": "code",
   "execution_count": 11,
   "metadata": {},
   "outputs": [],
   "source": [
    "def get_user_results(user_id):\n",
    "    con = redis.StrictRedis(host='localhost', port=6379, db=1, password=None)\n",
    "    res = con.get(user_id)\n",
    "    return res.decode()\n"
   ]
  },
  {
   "cell_type": "code",
   "execution_count": 12,
   "metadata": {},
   "outputs": [
    {
     "name": "stdout",
     "output_type": "stream",
     "text": [
      "CPU times: total: 0 ns\n",
      "Wall time: 5 ms\n"
     ]
    },
    {
     "data": {
      "text/plain": [
       "'{\"4337\":[\"540350\",\"541854\",\"545079\",\"550957\",\"554157\",\"556731\",\"557956\",\"560025\",\"560032\",\"565579\",\"573093\",\"575668\",\"575675\",\"578262\",\"579673\",\"580872\"]}'"
      ]
     },
     "execution_count": 12,
     "metadata": {},
     "output_type": "execute_result"
    }
   ],
   "source": [
    "%%time\n",
    "get_user_results(18283)\n"
   ]
  },
  {
   "cell_type": "code",
   "execution_count": 13,
   "metadata": {},
   "outputs": [
    {
     "name": "stdout",
     "output_type": "stream",
     "text": [
      "CPU times: total: 0 ns\n",
      "Wall time: 1 ms\n"
     ]
    },
    {
     "data": {
      "text/html": [
       "<div>\n",
       "<style scoped>\n",
       "    .dataframe tbody tr th:only-of-type {\n",
       "        vertical-align: middle;\n",
       "    }\n",
       "\n",
       "    .dataframe tbody tr th {\n",
       "        vertical-align: top;\n",
       "    }\n",
       "\n",
       "    .dataframe thead th {\n",
       "        text-align: right;\n",
       "    }\n",
       "</style>\n",
       "<table border=\"1\" class=\"dataframe\">\n",
       "  <thead>\n",
       "    <tr style=\"text-align: right;\">\n",
       "      <th></th>\n",
       "      <th>CustomerID</th>\n",
       "      <th>InvoiceNo</th>\n",
       "    </tr>\n",
       "  </thead>\n",
       "  <tbody>\n",
       "    <tr>\n",
       "      <th>4337</th>\n",
       "      <td>18283</td>\n",
       "      <td>[540350, 541854, 545079, 550957, 554157, 55673...</td>\n",
       "    </tr>\n",
       "  </tbody>\n",
       "</table>\n",
       "</div>"
      ],
      "text/plain": [
       "     CustomerID                                          InvoiceNo\n",
       "4337      18283  [540350, 541854, 545079, 550957, 554157, 55673..."
      ]
     },
     "execution_count": 13,
     "metadata": {},
     "output_type": "execute_result"
    }
   ],
   "source": [
    "%%time\n",
    "tmp[tmp.CustomerID == \"18283\"]"
   ]
  },
  {
   "cell_type": "code",
   "execution_count": 14,
   "metadata": {},
   "outputs": [
    {
     "name": "stdout",
     "output_type": "stream",
     "text": [
      "3.93 ms ± 252 µs per loop (mean ± std. dev. of 10 runs, 10 loops each)\n"
     ]
    }
   ],
   "source": [
    "%%timeit -n 10 -r 10\n",
    "get_user_results(18283)"
   ]
  },
  {
   "cell_type": "code",
   "execution_count": 15,
   "metadata": {},
   "outputs": [
    {
     "name": "stdout",
     "output_type": "stream",
     "text": [
      "561 µs ± 49.8 µs per loop (mean ± std. dev. of 10 runs, 10 loops each)\n"
     ]
    }
   ],
   "source": [
    "%%timeit -n 10 -r 10\n",
    "tmp[tmp.CustomerID == \"18283\"]"
   ]
  }
 ],
 "metadata": {
  "kernelspec": {
   "display_name": "Python 3.8.13 ('base')",
   "language": "python",
   "name": "python3"
  },
  "language_info": {
   "codemirror_mode": {
    "name": "ipython",
    "version": 3
   },
   "file_extension": ".py",
   "mimetype": "text/x-python",
   "name": "python",
   "nbconvert_exporter": "python",
   "pygments_lexer": "ipython3",
   "version": "3.8.13"
  },
  "orig_nbformat": 4,
  "vscode": {
   "interpreter": {
    "hash": "303fa613b6f3e1efefe7bb28036e305e1021fa6bdb083a5f9fd57f9d9bbad8eb"
   }
  }
 },
 "nbformat": 4,
 "nbformat_minor": 2
}
